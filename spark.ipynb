{
 "cells": [
  {
   "cell_type": "markdown",
   "id": "crazy-services",
   "metadata": {},
   "source": [
    "# Priyank Srivastava\n",
    "# Task: Color Segmentation\n",
    "# #GRIPJUNE21"
   ]
  },
  {
   "cell_type": "code",
   "execution_count": null,
   "id": "baking-glance",
   "metadata": {},
   "outputs": [],
   "source": [
    "import cv2\n",
    "import numpy as np"
   ]
  },
  {
   "cell_type": "code",
   "execution_count": null,
   "id": "solved-occurrence",
   "metadata": {},
   "outputs": [],
   "source": [
    "def rect(event,x,y,flag,param):\n",
    "    if event == cv2.EVENT_LBUTTONDOWN:\n",
    "        distance(img[y,x])"
   ]
  },
  {
   "cell_type": "code",
   "execution_count": null,
   "id": "assisted-phrase",
   "metadata": {},
   "outputs": [],
   "source": [
    "def distance(roi):\n",
    "    bgr = [[0,0,255],[0,255,255],[0,255,0],[255,0,0],[0,0,0],[255,255,255],[0,165,255],[211,0,148],[130,0,75]]\n",
    "    color = ['red','yellow','green','blue','black','white','orange','violet','indigo']\n",
    "    minimum=99999\n",
    "    for i in range(len(bgr)):\n",
    "        dist = abs(roi[0]-bgr[i][0]) + abs(roi[1]-bgr[i][1]) + abs(roi[2]-bgr[i][2])\n",
    "        if dist<minimum:\n",
    "            minimum=dist\n",
    "            index=i\n",
    "    window = np.ones((250,512,3),np.uint8)\n",
    "    window.fill(255)\n",
    "    cv2.putText(window,color[index], (50, 50), 2, 2,(bgr[index][0],bgr[index][1],bgr[index][2]), 2, cv2.LINE_AA)\n",
    "    cv2.imshow('result',window)\n",
    "    print(color[index])"
   ]
  },
  {
   "cell_type": "code",
   "execution_count": null,
   "id": "residential-teaching",
   "metadata": {},
   "outputs": [],
   "source": [
    "img = cv2.resize(cv2.imread('D:\\\\desktop\\\\Untitled Folder\\\\rainbow.png'),(512,512))\n",
    "while True:\n",
    "    cv2.setMouseCallback('img',rect)\n",
    "    cv2.imshow('img',img)\n",
    "    if cv2.waitKey(1)==27:\n",
    "        break\n",
    "cv2.destroyAllWindows()"
   ]
  },
  {
   "cell_type": "code",
   "execution_count": null,
   "id": "light-technician",
   "metadata": {},
   "outputs": [],
   "source": []
  }
 ],
 "metadata": {
  "kernelspec": {
   "display_name": "Python 3",
   "language": "python",
   "name": "python3"
  },
  "language_info": {
   "codemirror_mode": {
    "name": "ipython",
    "version": 3
   },
   "file_extension": ".py",
   "mimetype": "text/x-python",
   "name": "python",
   "nbconvert_exporter": "python",
   "pygments_lexer": "ipython3",
   "version": "3.8.8"
  }
 },
 "nbformat": 4,
 "nbformat_minor": 5
}

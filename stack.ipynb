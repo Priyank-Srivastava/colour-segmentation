{
 "cells": [
  {
   "cell_type": "markdown",
   "metadata": {},
   "source": [
    "# Stack"
   ]
  },
  {
   "cell_type": "code",
   "execution_count": 5,
   "metadata": {},
   "outputs": [
    {
     "name": "stdout",
     "output_type": "stream",
     "text": [
      "\n"
     ]
    }
   ],
   "source": [
    "class Node:\n",
    "    def __init__(self,Prev=None,Data=None):\n",
    "        self.Prev=Prev\n",
    "        self.Data=Data\n",
    "\n",
    "class Stack:\n",
    "    def __init__(self):\n",
    "        self.Tail=None\n",
    "        \n",
    "    def push(self,Data):\n",
    "        node = Node(self.Tail,Data)\n",
    "        self.Tail=node\n",
    "        \n",
    "    def pop(self):\n",
    "        value=self.Tail.Data\n",
    "        self.Tail=self.Tail.Prev\n",
    "        return value\n",
    "    \n",
    "    def size(self):\n",
    "        itr=self.Tail\n",
    "        counter=0\n",
    "        while itr:\n",
    "            counter+=1\n",
    "            itr=itr.Prev\n",
    "        return counter\n",
    "    \n",
    "    def peek(self):\n",
    "        if self.Tail is not None:\n",
    "            return self.Tail.Data\n",
    "    \n",
    "    def is_empty(self):\n",
    "        return self.size()==0\n",
    "    \n",
    "    def show(self):\n",
    "        if self.Tail is None:\n",
    "            return\n",
    "        itr=self.Tail\n",
    "        while itr:\n",
    "            print(itr.Data,end='')\n",
    "            itr=itr.Prev\n",
    "        print('')\n",
    "\n",
    "'''if __name__=='__main__':\n",
    "    s=Stack()\n",
    "    print(s.is_empty())\n",
    "    s.push(6)\n",
    "    s.push(2)\n",
    "    s.push(7)\n",
    "    s.push(3)\n",
    "    s.push(5)\n",
    "    print(s.is_empty())\n",
    "    s.show()\n",
    "    s.pop()\n",
    "    s.pop()\n",
    "    s.pop()\n",
    "    s.pop()\n",
    "    s.pop()\n",
    "    print(s.is_empty())\n",
    "    s.show()\n",
    "    print(s.peek())\n",
    "    print(s.size())'''\n",
    "print('')"
   ]
  },
  {
   "cell_type": "markdown",
   "metadata": {},
   "source": [
    "# Exercise"
   ]
  },
  {
   "cell_type": "code",
   "execution_count": 6,
   "metadata": {},
   "outputs": [
    {
     "name": "stdout",
     "output_type": "stream",
     "text": [
      "91-DIVOC ereuqnoc lliw eW\n"
     ]
    }
   ],
   "source": [
    "def reverse_string(string):\n",
    "    s=Stack()\n",
    "    for char in string:\n",
    "        s.push(char)\n",
    "    s.show()\n",
    "string='We will conquere COVID-19'\n",
    "reverse_string(string)"
   ]
  },
  {
   "cell_type": "code",
   "execution_count": 7,
   "metadata": {},
   "outputs": [
    {
     "name": "stdout",
     "output_type": "stream",
     "text": [
      "True\n",
      "False\n",
      "True\n",
      "True\n",
      "False\n",
      "True\n"
     ]
    }
   ],
   "source": [
    "def match(ch1,ch2):\n",
    "    bracket={')':'(','}':'{',']':'['}\n",
    "    return bracket[ch1]==ch2\n",
    "def is_balanced(expression):\n",
    "    s=Stack()\n",
    "    for char in expression:\n",
    "        if char=='(' or char=='{' or char=='[':\n",
    "            s.push(char)\n",
    "        if char==')' or char=='}' or char==']':\n",
    "            if s.size()==0:\n",
    "                return False\n",
    "            return match(char,s.pop())\n",
    "    return s.size==0\n",
    "print(is_balanced(\"({a+b})\"))\n",
    "print(is_balanced(\"))((a+b}{\"))\n",
    "print(is_balanced(\"((a+b))\"))\n",
    "print(is_balanced(\"((a+g))\"))\n",
    "print(is_balanced(\"))\"))\n",
    "print(is_balanced(\"[a+b]*(x+2y)*{gg+kk}\"))"
   ]
  },
  {
   "cell_type": "code",
   "execution_count": null,
   "metadata": {},
   "outputs": [],
   "source": []
  }
 ],
 "metadata": {
  "kernelspec": {
   "display_name": "Python 3",
   "language": "python",
   "name": "python3"
  },
  "language_info": {
   "codemirror_mode": {
    "name": "ipython",
    "version": 3
   },
   "file_extension": ".py",
   "mimetype": "text/x-python",
   "name": "python",
   "nbconvert_exporter": "python",
   "pygments_lexer": "ipython3",
   "version": "3.7.9"
  }
 },
 "nbformat": 4,
 "nbformat_minor": 4
}
